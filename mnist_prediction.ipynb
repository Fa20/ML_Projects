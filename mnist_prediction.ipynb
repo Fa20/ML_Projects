{
  "nbformat": 4,
  "nbformat_minor": 0,
  "metadata": {
    "colab": {
      "name": "mnist_prediction.ipynb",
      "provenance": [],
      "authorship_tag": "ABX9TyOfrdxqQ7xYjMi9zZOm2g0Z",
      "include_colab_link": true
    },
    "kernelspec": {
      "name": "python3",
      "display_name": "Python 3"
    },
    "language_info": {
      "name": "python"
    }
  },
  "cells": [
    {
      "cell_type": "markdown",
      "metadata": {
        "id": "view-in-github",
        "colab_type": "text"
      },
      "source": [
        "<a href=\"https://colab.research.google.com/github/Fa20/ML_Projects/blob/main/mnist_prediction.ipynb\" target=\"_parent\"><img src=\"https://colab.research.google.com/assets/colab-badge.svg\" alt=\"Open In Colab\"/></a>"
      ]
    },
    {
      "cell_type": "markdown",
      "source": [
        "**Import Libraries**"
      ],
      "metadata": {
        "id": "7cF86i3c9iT-"
      }
    },
    {
      "cell_type": "code",
      "execution_count": 1,
      "metadata": {
        "id": "3NgSVg0VdfN8"
      },
      "outputs": [],
      "source": [
        "import tensorflow as tf\n",
        "from tensorflow import keras\n",
        "import matplotlib.pyplot as plt\n",
        "from glob import glob\n",
        "import cv2\n",
        "from google.colab.patches import cv2_imshow\n",
        "import numpy as np\n"
      ]
    },
    {
      "cell_type": "markdown",
      "source": [
        "**Load the Dataset**"
      ],
      "metadata": {
        "id": "hFg-7den-fzS"
      }
    },
    {
      "cell_type": "code",
      "source": [
        "mnist = tf.keras.datasets.mnist"
      ],
      "metadata": {
        "id": "ak-DgnyrfUh8"
      },
      "execution_count": 2,
      "outputs": []
    },
    {
      "cell_type": "code",
      "source": [
        "(X_train,y_train),(X_test,y_test)=mnist.load_data()"
      ],
      "metadata": {
        "colab": {
          "base_uri": "https://localhost:8080/"
        },
        "id": "pTIzJ0PGfYG4",
        "outputId": "5fe149bd-bda1-47c0-d47f-77685800d5dd"
      },
      "execution_count": 3,
      "outputs": [
        {
          "output_type": "stream",
          "name": "stdout",
          "text": [
            "Downloading data from https://storage.googleapis.com/tensorflow/tf-keras-datasets/mnist.npz\n",
            "11493376/11490434 [==============================] - 0s 0us/step\n",
            "11501568/11490434 [==============================] - 0s 0us/step\n"
          ]
        }
      ]
    },
    {
      "cell_type": "markdown",
      "source": [
        "**Normalize the data**"
      ],
      "metadata": {
        "id": "--YnBTaH-3gt"
      }
    },
    {
      "cell_type": "code",
      "source": [
        "X_train, X_test = X_train / 255.0, X_test / 255.0"
      ],
      "metadata": {
        "id": "7oTwQljyIeM9"
      },
      "execution_count": 4,
      "outputs": []
    },
    {
      "cell_type": "markdown",
      "source": [
        "**Build the NN**"
      ],
      "metadata": {
        "id": "hd_VBoir_SP6"
      }
    },
    {
      "cell_type": "markdown",
      "source": [
        "Initializing the ANN"
      ],
      "metadata": {
        "id": "EuIeHVvxBKwl"
      }
    },
    {
      "cell_type": "code",
      "source": [
        "model=tf. keras.models.Sequential()\n"
      ],
      "metadata": {
        "id": "-fNC1nkQxG0q"
      },
      "execution_count": 5,
      "outputs": []
    },
    {
      "cell_type": "code",
      "source": [
        "model.add( keras.layers.Flatten(input_shape=(28, 28)))"
      ],
      "metadata": {
        "id": "BUiNxJd9D9j_"
      },
      "execution_count": 6,
      "outputs": []
    },
    {
      "cell_type": "code",
      "source": [
        "model.add(keras.layers.Dense(units=512,activation='relu'))"
      ],
      "metadata": {
        "id": "3QTnytySEYjV"
      },
      "execution_count": 7,
      "outputs": []
    },
    {
      "cell_type": "code",
      "source": [
        "model.add(keras.layers.Dropout(0.2))"
      ],
      "metadata": {
        "id": "_eOH3fTlOchA"
      },
      "execution_count": 8,
      "outputs": []
    },
    {
      "cell_type": "markdown",
      "source": [
        " Adding the output layer\n"
      ],
      "metadata": {
        "id": "vmWqVJqjBxld"
      }
    },
    {
      "cell_type": "code",
      "source": [
        "model.add(keras.layers.Dense(units=10,activation='softmax'))"
      ],
      "metadata": {
        "id": "BEAUg57oOxlB"
      },
      "execution_count": 9,
      "outputs": []
    },
    {
      "cell_type": "markdown",
      "source": [
        " **Compiling the ANN**"
      ],
      "metadata": {
        "id": "ERERjcGGB6lR"
      }
    },
    {
      "cell_type": "code",
      "source": [
        "model.compile(optimizer='adam',loss='sparse_categorical_crossentropy',metrics=['accuracy'])\n",
        "\n"
      ],
      "metadata": {
        "id": "r0DXbD2cPEi8"
      },
      "execution_count": 10,
      "outputs": []
    },
    {
      "cell_type": "markdown",
      "source": [
        "**Training the ANN on the Training set**"
      ],
      "metadata": {
        "id": "gukfAo7tCK2b"
      }
    },
    {
      "cell_type": "code",
      "source": [
        "model.fit(X_train, y_train, epochs=20)"
      ],
      "metadata": {
        "colab": {
          "base_uri": "https://localhost:8080/"
        },
        "id": "p3_thO7RPuUp",
        "outputId": "869b3b93-50f8-4370-abbf-830dc0c8b498"
      },
      "execution_count": 11,
      "outputs": [
        {
          "output_type": "stream",
          "name": "stdout",
          "text": [
            "Epoch 1/20\n",
            "1875/1875 [==============================] - 10s 5ms/step - loss: 0.2202 - accuracy: 0.9347\n",
            "Epoch 2/20\n",
            "1875/1875 [==============================] - 10s 5ms/step - loss: 0.0962 - accuracy: 0.9705\n",
            "Epoch 3/20\n",
            "1875/1875 [==============================] - 10s 5ms/step - loss: 0.0676 - accuracy: 0.9790\n",
            "Epoch 4/20\n",
            "1875/1875 [==============================] - 9s 5ms/step - loss: 0.0539 - accuracy: 0.9827\n",
            "Epoch 5/20\n",
            "1875/1875 [==============================] - 9s 5ms/step - loss: 0.0454 - accuracy: 0.9851\n",
            "Epoch 6/20\n",
            "1875/1875 [==============================] - 10s 5ms/step - loss: 0.0347 - accuracy: 0.9884\n",
            "Epoch 7/20\n",
            "1875/1875 [==============================] - 10s 5ms/step - loss: 0.0324 - accuracy: 0.9893\n",
            "Epoch 8/20\n",
            "1875/1875 [==============================] - 9s 5ms/step - loss: 0.0277 - accuracy: 0.9909\n",
            "Epoch 9/20\n",
            "1875/1875 [==============================] - 9s 5ms/step - loss: 0.0229 - accuracy: 0.9924\n",
            "Epoch 10/20\n",
            "1875/1875 [==============================] - 10s 5ms/step - loss: 0.0222 - accuracy: 0.9925\n",
            "Epoch 11/20\n",
            "1875/1875 [==============================] - 10s 5ms/step - loss: 0.0200 - accuracy: 0.9934\n",
            "Epoch 12/20\n",
            "1875/1875 [==============================] - 10s 6ms/step - loss: 0.0209 - accuracy: 0.9931\n",
            "Epoch 13/20\n",
            "1875/1875 [==============================] - 10s 5ms/step - loss: 0.0190 - accuracy: 0.9937\n",
            "Epoch 14/20\n",
            "1875/1875 [==============================] - 9s 5ms/step - loss: 0.0179 - accuracy: 0.9942\n",
            "Epoch 15/20\n",
            "1875/1875 [==============================] - 9s 5ms/step - loss: 0.0160 - accuracy: 0.9949\n",
            "Epoch 16/20\n",
            "1875/1875 [==============================] - 9s 5ms/step - loss: 0.0158 - accuracy: 0.9948\n",
            "Epoch 17/20\n",
            "1875/1875 [==============================] - 9s 5ms/step - loss: 0.0154 - accuracy: 0.9950\n",
            "Epoch 18/20\n",
            "1875/1875 [==============================] - 9s 5ms/step - loss: 0.0143 - accuracy: 0.9952\n",
            "Epoch 19/20\n",
            "1875/1875 [==============================] - 9s 5ms/step - loss: 0.0132 - accuracy: 0.9956\n",
            "Epoch 20/20\n",
            "1875/1875 [==============================] - 9s 5ms/step - loss: 0.0136 - accuracy: 0.9955\n"
          ]
        },
        {
          "output_type": "execute_result",
          "data": {
            "text/plain": [
              "<keras.callbacks.History at 0x7f7ef8b29690>"
            ]
          },
          "metadata": {},
          "execution_count": 11
        }
      ]
    },
    {
      "cell_type": "code",
      "metadata": {
        "id": "MOKNZkly7tLI",
        "outputId": "48fd36f8-00ed-477b-e21f-144fdbb4b99d",
        "colab": {
          "base_uri": "https://localhost:8080/",
          "height": 352
        }
      },
      "source": [
        "\n",
        "# Evaluate the model\n",
        "model_evaluate = model.evaluate(X_test, y_test)\n",
        "print(\"Loss     : \",model_evaluate[0])\n",
        "print(\"accuracy : \",model_evaluate[1])\n",
        "\n",
        "# Confusion Matrix\n",
        "y_pred = np.argmax(model.predict(X_test), axis=-1)\n",
        "\n",
        "# Compute classification report\n",
        "from sklearn.metrics import classification_report, confusion_matrix\n",
        "# Function to draw confusion matrix\n",
        "import seaborn as sns\n",
        "def draw_confusion_matrix(true,preds):\n",
        "  # Compute confusion matrix\n",
        "  conf_matx = confusion_matrix(true, preds)\n",
        "  print(\"Confusion matrix : \\n\")\n",
        "  sns.heatmap(conf_matx, annot=True,annot_kws={\"size\": 12},fmt='g', cbar=False, cmap=\"viridis\")\n",
        "  plt.show()\n",
        "  return conf_matx\n",
        "con_mat = draw_confusion_matrix(y_test, y_pred)\n",
        "\n"
      ],
      "execution_count": 22,
      "outputs": [
        {
          "output_type": "stream",
          "name": "stdout",
          "text": [
            "313/313 [==============================] - 1s 2ms/step - loss: 0.0897 - accuracy: 0.9841\n",
            "Loss     :  0.0897168219089508\n",
            "accuracy :  0.9840999841690063\n",
            "Confusion matrix : \n",
            "\n"
          ]
        },
        {
          "output_type": "display_data",
          "data": {
            "text/plain": [
              "<Figure size 432x288 with 1 Axes>"
            ],
            "image/png": "[encoded data removed]"
          },
          "metadata": {
            "needs_background": "light"
          }
        }
      ]
    }
  ]
}